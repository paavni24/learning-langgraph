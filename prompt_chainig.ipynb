{
 "cells": [
  {
   "cell_type": "code",
   "execution_count": 1,
   "metadata": {},
   "outputs": [],
   "source": [
    "from langgraph.graph import StateGraph,START,END\n",
    "from dotenv import load_dotenv\n",
    "from typing import TypedDict\n",
    "from langchain_openai import ChatOpenAI"
   ]
  },
  {
   "cell_type": "code",
   "execution_count": 2,
   "metadata": {},
   "outputs": [
    {
     "data": {
      "text/plain": [
       "True"
      ]
     },
     "execution_count": 2,
     "metadata": {},
     "output_type": "execute_result"
    }
   ],
   "source": [
    "load_dotenv()"
   ]
  },
  {
   "cell_type": "code",
   "execution_count": 3,
   "metadata": {},
   "outputs": [],
   "source": [
    "model =  ChatOpenAI()"
   ]
  },
  {
   "cell_type": "code",
   "execution_count": 4,
   "metadata": {},
   "outputs": [],
   "source": [
    "# state\n",
    "class LLMState(TypedDict):\n",
    "    topic: str\n",
    "    outline: str\n",
    "    blog: str"
   ]
  },
  {
   "cell_type": "code",
   "execution_count": 5,
   "metadata": {},
   "outputs": [],
   "source": [
    "def gen_outline(state: LLMState) -> LLMState:\n",
    "    \n",
    "    #extract topic\n",
    "    topic = state['topic']\n",
    "    \n",
    "    #prompt\n",
    "    prompt = f'Generate an outline on the following topic {topic}'\n",
    "    \n",
    "    outline = model.invoke(prompt).content\n",
    "    \n",
    "    state['outline'] = outline\n",
    "    \n",
    "    return state"
   ]
  },
  {
   "cell_type": "code",
   "execution_count": 6,
   "metadata": {},
   "outputs": [],
   "source": [
    "def gen_blog(state: LLMState) -> LLMState:\n",
    "    \n",
    "    outline = state['outline']\n",
    "    \n",
    "    prompt = f'Generate a blog for the following outline {outline}'\n",
    "    \n",
    "    blog = model.invoke(prompt).content\n",
    "    \n",
    "    state['blog'] = blog\n",
    "    \n",
    "    return state"
   ]
  },
  {
   "cell_type": "code",
   "execution_count": 8,
   "metadata": {},
   "outputs": [],
   "source": [
    "graph = StateGraph(LLMState)\n",
    "\n",
    "graph.add_node('gen_outline',gen_outline)\n",
    "graph.add_node('gen_blog',gen_blog)\n",
    "\n",
    "graph.add_edge(START,'gen_outline')\n",
    "graph.add_edge('gen_outline','gen_blog')\n",
    "graph.add_edge('gen_blog',END)\n",
    "\n",
    "workflow = graph.compile()"
   ]
  },
  {
   "cell_type": "code",
   "execution_count": 10,
   "metadata": {},
   "outputs": [
    {
     "name": "stdout",
     "output_type": "stream",
     "text": [
      "{'topic': 'Earth', 'outline': \"I. Introduction\\n    A. Definition of Earth\\n    B. Importance of Earth in the universe\\n\\nII. Formation and Composition of Earth\\n    A. Formation of Earth\\n    B. Composition of Earth's layers (crust, mantle, core)\\n\\nIII. Size and Structure of Earth\\n    A. Size of Earth compared to other planets\\n    B. Structure of Earth's interior\\n\\nIV. Earth's Atmosphere and Climate\\n    A. Composition of Earth's atmosphere\\n    B. Role of atmosphere in sustaining life on Earth\\n    C. Factors affecting Earth's climate\\n\\nV. Geology and Geography of Earth\\n    A. Overview of Earth's major geological features (mountains, rivers, etc.)\\n    B. Types of landforms on Earth (deserts, forests, etc.)\\n\\nVI. Earth's Oceans and Water Bodies\\n    A. Importance of Earth's oceans\\n    B. Impact of oceans on climate and weather\\n    C. Biodiversity in Earth's oceans\\n\\nVII. Importance of Earth for Human Life\\n    A. Natural resources provided by Earth\\n    B. Ecosystem services provided by Earth\\n    C. Need for conservation and protection of Earth\\n\\nVIII. Conclusion\\n    A. Recap of key points about Earth\\n    B. Future challenges and opportunities for studying Earth\", 'blog': \"When we look up at the night sky and gaze at the billions of twinkling stars, it can be easy to forget about the small blue marble we call home - Earth. But despite its seemingly insignificant size in the vast universe, Earth holds incredible importance and fascination for us as human beings.\\n\\nEarth is the third planet from the sun in our solar system, and it is the only known planet to sustain life. Its unique position and composition allow for the existence of a rich and diverse ecosystem, making it a truly special place in the cosmos.\\n\\nThe formation of Earth began billions of years ago, as dust and gas from a cloud of material in space began to come together and eventually formed our planet. Over time, Earth's layers - the crust, mantle, and core - solidified and created the structure we know today.\\n\\nIn terms of size, Earth is neither the largest nor the smallest planet in our solar system. It falls right in the middle, with a diameter of about 12,742 kilometers. Despite its modest size, Earth's interior is a complex and dynamic system of rocks, metals, and molten materials that play a crucial role in shaping our planet's geology and geography.\\n\\nOne of the most defining features of Earth is its atmosphere, which is made up of a mixture of gases that provide the air we breathe and help regulate our climate. The atmosphere also shields us from harmful solar radiation and helps to maintain a stable environment for life to thrive.\\n\\nSpeaking of life, Earth's oceans are another essential element in sustaining the rich biodiversity found on our planet. The oceans cover about 70% of Earth's surface and play a critical role in regulating climate, weather patterns, and supporting a wide array of marine life.\\n\\nBut Earth is not just a place for plants and animals - it is also our home. The natural resources provided by Earth, such as water, minerals, and fertile soil, are essential for our survival and well-being. Additionally, Earth's ecosystems provide a wide range of services that benefit us, from purifying air and water to regulating the carbon cycle.\\n\\nAs we move forward, it is crucial that we recognize the importance of Earth and take steps to protect and conserve its resources. The future of our planet and the well-being of future generations depend on our efforts to study, understand, and preserve the unique beauty and complexity of Earth.\\n\\nIn conclusion, Earth may be just a small speck in the vast universe, but it is a remarkable and precious place that we must cherish and protect. By studying and appreciating Earth, we can unlock a deeper understanding of our place in the cosmos and the significance of our home planet.\"}\n"
     ]
    }
   ],
   "source": [
    "initial_state = {'topic': 'Earth'}\n",
    "\n",
    "final_state = workflow.invoke(initial_state)\n",
    "\n",
    "print(final_state)"
   ]
  },
  {
   "cell_type": "code",
   "execution_count": 11,
   "metadata": {},
   "outputs": [
    {
     "name": "stdout",
     "output_type": "stream",
     "text": [
      "I. Introduction\n",
      "    A. Definition of Earth\n",
      "    B. Importance of Earth in the universe\n",
      "\n",
      "II. Formation and Composition of Earth\n",
      "    A. Formation of Earth\n",
      "    B. Composition of Earth's layers (crust, mantle, core)\n",
      "\n",
      "III. Size and Structure of Earth\n",
      "    A. Size of Earth compared to other planets\n",
      "    B. Structure of Earth's interior\n",
      "\n",
      "IV. Earth's Atmosphere and Climate\n",
      "    A. Composition of Earth's atmosphere\n",
      "    B. Role of atmosphere in sustaining life on Earth\n",
      "    C. Factors affecting Earth's climate\n",
      "\n",
      "V. Geology and Geography of Earth\n",
      "    A. Overview of Earth's major geological features (mountains, rivers, etc.)\n",
      "    B. Types of landforms on Earth (deserts, forests, etc.)\n",
      "\n",
      "VI. Earth's Oceans and Water Bodies\n",
      "    A. Importance of Earth's oceans\n",
      "    B. Impact of oceans on climate and weather\n",
      "    C. Biodiversity in Earth's oceans\n",
      "\n",
      "VII. Importance of Earth for Human Life\n",
      "    A. Natural resources provided by Earth\n",
      "    B. Ecosystem services provided by Earth\n",
      "    C. Need for conservation and protection of Earth\n",
      "\n",
      "VIII. Conclusion\n",
      "    A. Recap of key points about Earth\n",
      "    B. Future challenges and opportunities for studying Earth\n"
     ]
    }
   ],
   "source": [
    "print(final_state['outline'])"
   ]
  },
  {
   "cell_type": "code",
   "execution_count": 12,
   "metadata": {},
   "outputs": [
    {
     "name": "stdout",
     "output_type": "stream",
     "text": [
      "When we look up at the night sky and gaze at the billions of twinkling stars, it can be easy to forget about the small blue marble we call home - Earth. But despite its seemingly insignificant size in the vast universe, Earth holds incredible importance and fascination for us as human beings.\n",
      "\n",
      "Earth is the third planet from the sun in our solar system, and it is the only known planet to sustain life. Its unique position and composition allow for the existence of a rich and diverse ecosystem, making it a truly special place in the cosmos.\n",
      "\n",
      "The formation of Earth began billions of years ago, as dust and gas from a cloud of material in space began to come together and eventually formed our planet. Over time, Earth's layers - the crust, mantle, and core - solidified and created the structure we know today.\n",
      "\n",
      "In terms of size, Earth is neither the largest nor the smallest planet in our solar system. It falls right in the middle, with a diameter of about 12,742 kilometers. Despite its modest size, Earth's interior is a complex and dynamic system of rocks, metals, and molten materials that play a crucial role in shaping our planet's geology and geography.\n",
      "\n",
      "One of the most defining features of Earth is its atmosphere, which is made up of a mixture of gases that provide the air we breathe and help regulate our climate. The atmosphere also shields us from harmful solar radiation and helps to maintain a stable environment for life to thrive.\n",
      "\n",
      "Speaking of life, Earth's oceans are another essential element in sustaining the rich biodiversity found on our planet. The oceans cover about 70% of Earth's surface and play a critical role in regulating climate, weather patterns, and supporting a wide array of marine life.\n",
      "\n",
      "But Earth is not just a place for plants and animals - it is also our home. The natural resources provided by Earth, such as water, minerals, and fertile soil, are essential for our survival and well-being. Additionally, Earth's ecosystems provide a wide range of services that benefit us, from purifying air and water to regulating the carbon cycle.\n",
      "\n",
      "As we move forward, it is crucial that we recognize the importance of Earth and take steps to protect and conserve its resources. The future of our planet and the well-being of future generations depend on our efforts to study, understand, and preserve the unique beauty and complexity of Earth.\n",
      "\n",
      "In conclusion, Earth may be just a small speck in the vast universe, but it is a remarkable and precious place that we must cherish and protect. By studying and appreciating Earth, we can unlock a deeper understanding of our place in the cosmos and the significance of our home planet.\n"
     ]
    }
   ],
   "source": [
    "print(final_state['blog'])"
   ]
  },
  {
   "cell_type": "code",
   "execution_count": null,
   "metadata": {},
   "outputs": [],
   "source": []
  }
 ],
 "metadata": {
  "kernelspec": {
   "display_name": "myenv",
   "language": "python",
   "name": "python3"
  },
  "language_info": {
   "codemirror_mode": {
    "name": "ipython",
    "version": 3
   },
   "file_extension": ".py",
   "mimetype": "text/x-python",
   "name": "python",
   "nbconvert_exporter": "python",
   "pygments_lexer": "ipython3",
   "version": "3.13.0"
  }
 },
 "nbformat": 4,
 "nbformat_minor": 2
}
