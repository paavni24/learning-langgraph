{
 "cells": [
  {
   "cell_type": "code",
   "execution_count": 32,
   "metadata": {},
   "outputs": [],
   "source": [
    "from langgraph.graph import StateGraph,START,END\n",
    "from dotenv import load_dotenv\n",
    "from typing import TypedDict, Annotated\n",
    "import operator\n",
    "from langchain_openai import ChatOpenAI\n",
    "from pydantic import BaseModel,Field"
   ]
  },
  {
   "cell_type": "code",
   "execution_count": 33,
   "metadata": {},
   "outputs": [
    {
     "data": {
      "text/plain": [
       "False"
      ]
     },
     "execution_count": 33,
     "metadata": {},
     "output_type": "execute_result"
    }
   ],
   "source": [
    "load_dotenv()"
   ]
  },
  {
   "cell_type": "code",
   "execution_count": 34,
   "metadata": {},
   "outputs": [],
   "source": [
    "model = ChatOpenAI(model='gpt-4o-mini')"
   ]
  },
  {
   "cell_type": "code",
   "execution_count": 35,
   "metadata": {},
   "outputs": [],
   "source": [
    "class EvalScheme(BaseModel):\n",
    "    feedback: str = Field(description='detailed feedback of the essay')\n",
    "    score: int = Field(description='score out of 10',ge=0,le=10)"
   ]
  },
  {
   "cell_type": "code",
   "execution_count": 36,
   "metadata": {},
   "outputs": [],
   "source": [
    "structured_model = model.with_structured_output(EvalScheme)"
   ]
  },
  {
   "cell_type": "code",
   "execution_count": 37,
   "metadata": {},
   "outputs": [],
   "source": [
    "essay = \"\"\"India in the Age of AI\n",
    "As the world enters a transformative era defined by artificial intelligence (AI), India stands at a critical juncture — one where it can either emerge as a global leader in AI innovation or risk falling behind in the technology race. The age of AI brings with it immense promise as well as unprecedented challenges, and how India navigates this landscape will shape its socio-economic and geopolitical future.\n",
    "\n",
    "India's strengths in the AI domain are rooted in its vast pool of skilled engineers, a thriving IT industry, and a growing startup ecosystem. With over 5 million STEM graduates annually and a burgeoning base of AI researchers, India possesses the intellectual capital required to build cutting-edge AI systems. Institutions like IITs, IIITs, and IISc have begun fostering AI research, while private players such as TCS, Infosys, and Wipro are integrating AI into their global services. In 2020, the government launched the National AI Strategy (AI for All) with a focus on inclusive growth, aiming to leverage AI in healthcare, agriculture, education, and smart mobility.\n",
    "\n",
    "One of the most promising applications of AI in India lies in agriculture, where predictive analytics can guide farmers on optimal sowing times, weather forecasts, and pest control. In healthcare, AI-powered diagnostics can help address India’s doctor-patient ratio crisis, particularly in rural areas. Educational platforms are increasingly using AI to personalize learning paths, while smart governance tools are helping improve public service delivery and fraud detection.\n",
    "\n",
    "However, the path to AI-led growth is riddled with challenges. Chief among them is the digital divide. While metropolitan cities may embrace AI-driven solutions, rural India continues to struggle with basic internet access and digital literacy. The risk of job displacement due to automation also looms large, especially for low-skilled workers. Without effective skilling and re-skilling programs, AI could exacerbate existing socio-economic inequalities.\n",
    "\n",
    "Another pressing concern is data privacy and ethics. As AI systems rely heavily on vast datasets, ensuring that personal data is used transparently and responsibly becomes vital. India is still shaping its data protection laws, and in the absence of a strong regulatory framework, AI systems may risk misuse or bias.\n",
    "\n",
    "To harness AI responsibly, India must adopt a multi-stakeholder approach involving the government, academia, industry, and civil society. Policies should promote open datasets, encourage responsible innovation, and ensure ethical AI practices. There is also a need for international collaboration, particularly with countries leading in AI research, to gain strategic advantage and ensure interoperability in global systems.\n",
    "\n",
    "India’s demographic dividend, when paired with responsible AI adoption, can unlock massive economic growth, improve governance, and uplift marginalized communities. But this vision will only materialize if AI is seen not merely as a tool for automation, but as an enabler of human-centered development.\n",
    "\n",
    "In conclusion, India in the age of AI is a story in the making — one of opportunity, responsibility, and transformation. The decisions we make today will not just determine India’s AI trajectory, but also its future as an inclusive, equitable, and innovation-driven society.\"\"\"\n"
   ]
  },
  {
   "cell_type": "code",
   "execution_count": 38,
   "metadata": {},
   "outputs": [
    {
     "data": {
      "text/plain": [
       "8"
      ]
     },
     "execution_count": 38,
     "metadata": {},
     "output_type": "execute_result"
    }
   ],
   "source": [
    "prompt = f'Evaluate the language quality of the following essay and provide a feedback and assign a score out of 10 \\n {essay}'\n",
    "structured_model.invoke(prompt).score"
   ]
  },
  {
   "cell_type": "code",
   "execution_count": 39,
   "metadata": {},
   "outputs": [],
   "source": [
    "class UPSC(TypedDict):\n",
    "    essay: str\n",
    "    clarity_feedback: str\n",
    "    depth_feedback: str\n",
    "    language_feedback: str\n",
    "    summary_feedback: str\n",
    "    individual_scores: Annotated[list[int], operator.add]\n",
    "    final_avg_score: float"
   ]
  },
  {
   "cell_type": "code",
   "execution_count": 40,
   "metadata": {},
   "outputs": [],
   "source": [
    "def clarity_of_text(state: UPSC):\n",
    "\n",
    "    \n",
    "    prompt = f'Evaluate the clarity of thought of the following essay and provide a feedback and assign a score out of 10 \\n {state[\"essay\"]}'\n",
    "    \n",
    "    output = structured_model.invoke(prompt)\n",
    "    \n",
    "    return {'clarity_feedback': output.feedback, 'individual_scores':[output.score]}"
   ]
  },
  {
   "cell_type": "code",
   "execution_count": 41,
   "metadata": {},
   "outputs": [],
   "source": [
    "def depth_analysis(state: UPSC):\n",
    "   \n",
    "    prompt = f'Evaluate the depth of analysis of the following essay and provide a feedback and assign a score out of 10 \\n {state[\"essay\"]}'\n",
    "    \n",
    "    output = structured_model.invoke(prompt)\n",
    "    \n",
    "    return {'depth_feedback': output.feedback, 'individual_scores':[output.score]}\n",
    "    "
   ]
  },
  {
   "cell_type": "code",
   "execution_count": 42,
   "metadata": {},
   "outputs": [],
   "source": [
    "def language(state: UPSC):\n",
    "    prompt = f'Evaluate the quality of the langauge of the following essay and provide a feedback and assign a score out of 10 \\n {state[\"essay\"]}'\n",
    "    \n",
    "    output = structured_model.invoke(prompt)\n",
    "    \n",
    "    return {'language_feedback': output.feedback, 'individual_scores':[output.score]}"
   ]
  },
  {
   "cell_type": "code",
   "execution_count": 43,
   "metadata": {},
   "outputs": [],
   "source": [
    "def final_evaluation(state: UPSC):\n",
    "    # summary feedback\n",
    "    prompt = f'Based on the following feedbacks create a summarized feedback \\n language feedback - {state[\"language_feedback\"]} \\n depth of analysis feedback - {state[\"depth_feedback\"]} \\n clarity of thought feedback - {state[\"clarity_feedback\"]}'\n",
    "    overall_feedback = model.invoke(prompt).content\n",
    "    \n",
    "    avg_score = sum(state['individual_scores'])/len(state['individual_scores'])\n",
    "    \n",
    "    return {'summary_feedback': overall_feedback, 'final_avg_score':avg_score}"
   ]
  },
  {
   "cell_type": "code",
   "execution_count": 44,
   "metadata": {},
   "outputs": [],
   "source": [
    "graph = StateGraph(UPSC)\n",
    "\n",
    "graph.add_node('clarity_of_text',clarity_of_text)\n",
    "graph.add_node('depth_analysis',depth_analysis)\n",
    "graph.add_node('language',language)\n",
    "graph.add_node('final_evaluation',final_evaluation)\n",
    "\n",
    "graph.add_edge(START,'clarity_of_text')\n",
    "graph.add_edge(START,'depth_analysis')\n",
    "graph.add_edge(START,'language')\n",
    "\n",
    "graph.add_edge('clarity_of_text','final_evaluation')\n",
    "graph.add_edge('depth_analysis','final_evaluation')\n",
    "graph.add_edge('language','final_evaluation')\n",
    "\n",
    "graph.add_edge('final_evaluation',END)\n",
    "\n",
    "workflow = graph.compile()"
   ]
  },
  {
   "cell_type": "code",
   "execution_count": 45,
   "metadata": {},
   "outputs": [
    {
     "data": {
      "image/png": "[encoded data removed]",
      "text/plain": [
       "<langgraph.graph.state.CompiledStateGraph object at 0x11bcf1810>"
      ]
     },
     "execution_count": 45,
     "metadata": {},
     "output_type": "execute_result"
    }
   ],
   "source": [
    "workflow"
   ]
  },
  {
   "cell_type": "code",
   "execution_count": 46,
   "metadata": {},
   "outputs": [],
   "source": [
    "essay2 = \"\"\"India and AI Time\n",
    "\n",
    "Now world change very fast because new tech call Artificial Intel… something (AI). India also want become big in this AI thing. If work hard, India can go top. But if no careful, India go back.\n",
    "\n",
    "India have many good. We have smart student, many engine-ear, and good IT peoples. Big company like TCS, Infosys, Wipro already use AI. Government also do program “AI for All”. It want AI in farm, doctor place, school and transport.\n",
    "\n",
    "In farm, AI help farmer know when to put seed, when rain come, how stop bug. In health, AI help doctor see sick early. In school, AI help student learn good. Government office use AI to find bad people and work fast.\n",
    "\n",
    "But problem come also. First is many villager no have phone or internet. So AI not help them. Second, many people lose job because AI and machine do work. Poor people get more bad.\n",
    "\n",
    "One more big problem is privacy. AI need big big data. Who take care? India still make data rule. If no strong rule, AI do bad.\n",
    "\n",
    "India must all people together – govern, school, company and normal people. We teach AI and make sure AI not bad. Also talk to other country and learn from them.\n",
    "\n",
    "If India use AI good way, we become strong, help poor and make better life. But if only rich use AI, and poor no get, then big bad thing happen.\n",
    "\n",
    "So, in short, AI time in India have many hope and many danger. We must go right road. AI must help all people, not only some. Then India grow big and world say \"good job India\".\"\"\"\n"
   ]
  },
  {
   "cell_type": "code",
   "execution_count": 49,
   "metadata": {},
   "outputs": [
    {
     "name": "stdout",
     "output_type": "stream",
     "text": [
      "{'essay': 'India and AI Time\\n\\nNow world change very fast because new tech call Artificial Intel… something (AI). India also want become big in this AI thing. If work hard, India can go top. But if no careful, India go back.\\n\\nIndia have many good. We have smart student, many engine-ear, and good IT peoples. Big company like TCS, Infosys, Wipro already use AI. Government also do program “AI for All”. It want AI in farm, doctor place, school and transport.\\n\\nIn farm, AI help farmer know when to put seed, when rain come, how stop bug. In health, AI help doctor see sick early. In school, AI help student learn good. Government office use AI to find bad people and work fast.\\n\\nBut problem come also. First is many villager no have phone or internet. So AI not help them. Second, many people lose job because AI and machine do work. Poor people get more bad.\\n\\nOne more big problem is privacy. AI need big big data. Who take care? India still make data rule. If no strong rule, AI do bad.\\n\\nIndia must all people together – govern, school, company and normal people. We teach AI and make sure AI not bad. Also talk to other country and learn from them.\\n\\nIf India use AI good way, we become strong, help poor and make better life. But if only rich use AI, and poor no get, then big bad thing happen.\\n\\nSo, in short, AI time in India have many hope and many danger. We must go right road. AI must help all people, not only some. Then India grow big and world say \"good job India\".', 'clarity_feedback': 'The essay presents a clear understanding of the opportunities and challenges that AI presents for India. The author\\'s main ideas are easy to follow, and the structure, while simple, gives a logical progression of thought. However, the clarity is undermined by grammatical errors, awkward phrasing, and a lack of coherence in some parts. For instance, phrases like \"new tech call Artificial Intel… something (AI)\" and \"BIG big data\" are confusing and detract from the message. The essay would benefit from more precise language and varied sentence structures to enhance readability. The argument would also gain strength from providing more detailed examples or evidence to support the claims about AI\\'s impact on various sectors. Overall, the core concepts are present, but the execution needs improvement to effectively convey the intended message.', 'depth_feedback': 'The essay presents a basic understanding of the opportunities and challenges that AI presents in India. The writer makes noteworthy connections between AI applications in various sectors such as agriculture, healthcare, and education. However, the analysis lacks depth in several key areas:\\n\\n1. **Clarity and Expression**: The writing is riddled with grammatical errors and awkward phrasing that detracts from the overall clarity. Phrases like \"new tech call Artificial Intel… something (AI)\" show a lack of precise terminology and undermine the essay\\'s credibility. \\n\\n2. **Structure and Organization**: The essay lacks a formal structure. While the ideas are present, they do not flow logically from one point to the next. There is a need for clearer topic sentences, transitions, and a conclusion that summarizes the main points effectively.\\n\\n3. **Depth of Analysis**: The essay mentions potential benefits (like improving farming and health) but does not explore the implications or provide examples to support these claims. The discussions of the problems, such as job loss and privacy concerns, are very superficial and do not include any supporting evidence or broader context about how these issues manifest in current scenarios. \\n\\n4. **Conclusion**: The conclusion tries to encapsulate the overall message but does not draw any meaningful insights or call to action that engages the reader on a deeper level.\\n\\nTo improve, the writer should focus on refining their writing style for clarity, structuring the essay with clear sections, and conducting more research to provide a nuanced view of the topic. This could involve discussing specific AI technologies, providing statistical evidence, or analyzing policy responses to the challenges mentioned.', 'language_feedback': 'The essay touches on an important issue regarding the integration of AI in India and has a clear structure with an introduction, body paragraphs addressing various aspects of AI, and a conclusion. However, the language used throughout the essay lacks clarity and coherence. Here are some specific points for improvement:\\n\\n1. **Grammar and Syntax:** The essay contains multiple grammatical errors, such as missing articles (\"the\"), subject-verb agreement issues (e.g. \"India have\" should be \"India has\"), and incorrectly formed phrases. This significantly hinders readability.\\n\\n2. **Word Choice:** The informal tone and colloquialisms (e.g., \"many good\" and \"big bad thing\") are inappropriate for an academic or formal essay. More sophisticated vocabulary and more specificity would enhance the quality of the writing.\\n\\n3. **Clarity of Ideas:** While the essay presents relevant points about the positive and negative aspects of AI, the ideas sometimes lack depth. For example, the potential benefits of AI are only briefly mentioned without elaborating on how these can be implemented successfully.\\n\\n4. **Logical Flow:** The transition between ideas can be confusing. For instance, moving from discussing the benefits of AI in farms to health and then to the problem of job loss needs smoother connections to help the reader follow the argument.\\n\\n5. **Conclusion:** The conclusion summarizes some key points but can be more powerful by reiterating the importance of ethical considerations in AI development in India, emphasizing inclusivity and the potential impact on society.', 'summary_feedback': '**Summarized Feedback:**\\n\\nThe essay addresses the significant issue of AI integration in India and demonstrates a clear structural approach with an introduction, body paragraphs, and a conclusion. However, several areas need improvement for enhanced clarity and depth.\\n\\n1. **Language and Grammar:** The essay is marred by multiple grammatical errors, such as incorrect article usage and subject-verb agreement, which impede readability and coherence. An informal tone with colloquialisms is also inappropriate for a formal essay.\\n\\n2. **Depth of Analysis:** While the essay identifies key opportunities and challenges posed by AI across various sectors, the analysis lacks depth. It briefly mentions potential benefits without sufficient elaboration or supporting examples, particularly concerning critical issues like job loss and privacy.\\n\\n3. **Logical Flow and Structure:** The organization needs refinement; transitions between ideas are sometimes abrupt, making it difficult for readers to follow the argument. Clear topic sentences and smoother connections between paragraphs would improve coherence.\\n\\n4. **Conclusion:** Although the conclusion summarizes key points, it fails to provide meaningful insights or a strong call to action. Emphasizing the ethical implications of AI in India and its societal impact could strengthen this section.\\n\\nTo enhance the essay, the writer should focus on improving their writing style for clarity, structuring the content effectively, and conducting further research to enrich the analysis with detailed examples and evidence.', 'individual_scores': [5, 4, 4], 'final_avg_score': 4.333333333333333}\n"
     ]
    }
   ],
   "source": [
    "inital_input = {'essay':essay2}\n",
    "\n",
    "final_output = workflow.invoke(inital_input)\n",
    "\n",
    "print(final_output)"
   ]
  },
  {
   "cell_type": "code",
   "execution_count": null,
   "metadata": {},
   "outputs": [],
   "source": []
  }
 ],
 "metadata": {
  "kernelspec": {
   "display_name": "myenv",
   "language": "python",
   "name": "python3"
  },
  "language_info": {
   "codemirror_mode": {
    "name": "ipython",
    "version": 3
   },
   "file_extension": ".py",
   "mimetype": "text/x-python",
   "name": "python",
   "nbconvert_exporter": "python",
   "pygments_lexer": "ipython3",
   "version": "3.13.0"
  }
 },
 "nbformat": 4,
 "nbformat_minor": 2
}
