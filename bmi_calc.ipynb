{
 "cells": [
  {
   "cell_type": "code",
   "execution_count": 21,
   "metadata": {},
   "outputs": [],
   "source": [
    "from langgraph.graph import StateGraph,START,END\n",
    "from typing import TypedDict"
   ]
  },
  {
   "cell_type": "code",
   "execution_count": 22,
   "metadata": {},
   "outputs": [],
   "source": [
    "#define state\n",
    "class BMIState(TypedDict):\n",
    "    weight: float\n",
    "    height: float\n",
    "    bmi: float\n",
    "    category: str"
   ]
  },
  {
   "cell_type": "code",
   "execution_count": 23,
   "metadata": {},
   "outputs": [],
   "source": [
    "def calc_bmi(state: BMIState) -> BMIState:\n",
    "    \n",
    "    weight = state['weight']\n",
    "    height = state['height']\n",
    "    \n",
    "    bmi = weight/(height**2)\n",
    "    state['bmi'] = round(bmi,2)\n",
    "    \n",
    "    return state\n",
    "    \n"
   ]
  },
  {
   "cell_type": "code",
   "execution_count": 24,
   "metadata": {},
   "outputs": [],
   "source": [
    "def label_bmi(state: BMIState) -> BMIState:\n",
    "    \n",
    "    label = state['bmi']\n",
    "    if label < 18:\n",
    "        state['category'] = 'UNDERWEIGHT'\n",
    "    elif 18 <= label < 25:\n",
    "        state['category'] = 'NORMAL'\n",
    "    elif 25 <= label < 30:\n",
    "        state['category'] = 'OVERWEIGHT'\n",
    "    else:\n",
    "        state['category'] = 'OBESE'\n",
    "        \n",
    "    return state\n",
    "    "
   ]
  },
  {
   "cell_type": "code",
   "execution_count": 26,
   "metadata": {},
   "outputs": [],
   "source": [
    "#define Graph\n",
    "graph = StateGraph(BMIState)\n",
    "\n",
    "#add nodes\n",
    "graph.add_node('bmi_calculator',calc_bmi)\n",
    "graph.add_node('bmi_category', label_bmi)\n",
    "#add egdes\n",
    "graph.add_edge(START,'bmi_calculator')\n",
    "graph.add_edge('bmi_calculator','bmi_category')\n",
    "graph.add_edge('bmi_category',END)\n",
    "#compile the graph\n",
    "\n",
    "workflow = graph.compile()\n",
    "\n",
    "#execute thr graph\n"
   ]
  },
  {
   "cell_type": "code",
   "execution_count": 27,
   "metadata": {},
   "outputs": [
    {
     "name": "stdout",
     "output_type": "stream",
     "text": [
      "{'weight': 80, 'height': 1.76, 'bmi': 25.83, 'category': 'OVERWEIGHT'}\n"
     ]
    }
   ],
   "source": [
    "initial_state = {'weight':80,'height':1.76}\n",
    "\n",
    "final_state = workflow.invoke(initial_state)\n",
    "\n",
    "print(final_state)"
   ]
  },
  {
   "cell_type": "code",
   "execution_count": 28,
   "metadata": {},
   "outputs": [
    {
     "data": {
      "image/png": "[encoded data removed]",
      "text/plain": [
       "<IPython.core.display.Image object>"
      ]
     },
     "execution_count": 28,
     "metadata": {},
     "output_type": "execute_result"
    }
   ],
   "source": [
    "from IPython.display import Image\n",
    "Image(workflow.get_graph().draw_mermaid_png())"
   ]
  }
 ],
 "metadata": {
  "kernelspec": {
   "display_name": "myenv",
   "language": "python",
   "name": "python3"
  },
  "language_info": {
   "codemirror_mode": {
    "name": "ipython",
    "version": 3
   },
   "file_extension": ".py",
   "mimetype": "text/x-python",
   "name": "python",
   "nbconvert_exporter": "python",
   "pygments_lexer": "ipython3",
   "version": "3.13.0"
  }
 },
 "nbformat": 4,
 "nbformat_minor": 2
}
