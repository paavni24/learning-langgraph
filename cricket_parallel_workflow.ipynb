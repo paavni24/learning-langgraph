{
 "cells": [
  {
   "cell_type": "code",
   "execution_count": 34,
   "metadata": {},
   "outputs": [],
   "source": [
    "from langgraph.graph import StateGraph,START,END\n",
    "from dotenv import load_dotenv\n",
    "from typing import TypedDict\n",
    "from langchain_openai import ChatOpenAI"
   ]
  },
  {
   "cell_type": "code",
   "execution_count": 2,
   "metadata": {},
   "outputs": [
    {
     "data": {
      "text/plain": [
       "False"
      ]
     },
     "execution_count": 2,
     "metadata": {},
     "output_type": "execute_result"
    }
   ],
   "source": [
    "load_dotenv()\n"
   ]
  },
  {
   "cell_type": "code",
   "execution_count": 3,
   "metadata": {},
   "outputs": [],
   "source": [
    "model = ChatOpenAI()"
   ]
  },
  {
   "cell_type": "code",
   "execution_count": 35,
   "metadata": {},
   "outputs": [],
   "source": [
    "class CricketLLM(TypedDict):\n",
    "    runs: int\n",
    "    balls: int\n",
    "    fours: int\n",
    "    sixes: int\n",
    "    strike_rate: float\n",
    "    boundary_perc: float\n",
    "    balls_per_boundary: float\n",
    "    summary: str"
   ]
  },
  {
   "cell_type": "code",
   "execution_count": 56,
   "metadata": {},
   "outputs": [],
   "source": [
    "def strike_rate(state: CricketLLM) -> CricketLLM:\n",
    "    \n",
    "    sr = (state['runs']/state['balls'])*100\n",
    "    \n",
    "    return {'strike_rate': sr}"
   ]
  },
  {
   "cell_type": "code",
   "execution_count": 55,
   "metadata": {},
   "outputs": [],
   "source": [
    "def boundary_perc(state: CricketLLM) -> CricketLLM:\n",
    "    \n",
    "    boundary_percent = (((state['fours'] * 4) + (state['sixes'] * 6))/state['runs'])*100\n",
    "\n",
    "    return {'boundary_perc': boundary_percent}\n"
   ]
  },
  {
   "cell_type": "code",
   "execution_count": 54,
   "metadata": {},
   "outputs": [],
   "source": [
    "def balls_per_boundary(state: CricketLLM) -> CricketLLM:\n",
    "    bpb = state['balls']/(state['fours'] + state['sixes'])\n",
    "\n",
    "    return {'balls_per_boundary': bpb}"
   ]
  },
  {
   "cell_type": "code",
   "execution_count": 57,
   "metadata": {},
   "outputs": [],
   "source": [
    "def summary(state: CricketLLM) -> CricketLLM:\n",
    "    summary = f\"\"\"\n",
    "    strike_rate - {state['strike_rate']} \\n\n",
    "    balls per boundary - {state['balls_per_boundary']} \\n\n",
    "    boundary percentage - {state['boundary_perc']}\n",
    "    \"\"\"\n",
    "    \n",
    "   \n",
    "    return {'summary': summary}"
   ]
  },
  {
   "cell_type": "code",
   "execution_count": 58,
   "metadata": {},
   "outputs": [],
   "source": [
    "graph = StateGraph(CricketLLM)\n",
    "\n",
    "graph.add_node('strike_rate',strike_rate)\n",
    "graph.add_node('boundary_perc',boundary_perc)\n",
    "graph.add_node('balls_per_boundary',balls_per_boundary)\n",
    "graph.add_node('summary',summary)\n",
    "\n",
    "graph.add_edge(START,'strike_rate')\n",
    "graph.add_edge(START,'boundary_perc')\n",
    "graph.add_edge(START,'balls_per_boundary')\n",
    "\n",
    "graph.add_edge('strike_rate','summary')\n",
    "graph.add_edge('boundary_perc','summary')\n",
    "graph.add_edge('balls_per_boundary','summary')\n",
    "\n",
    "graph.add_edge('summary',END)\n",
    "\n",
    "workflow = graph.compile()\n",
    "\n"
   ]
  },
  {
   "cell_type": "code",
   "execution_count": 59,
   "metadata": {},
   "outputs": [
    {
     "data": {
      "image/png": "[encoded data removed]",
      "text/plain": [
       "<langgraph.graph.state.CompiledStateGraph object at 0x1263b8690>"
      ]
     },
     "execution_count": 59,
     "metadata": {},
     "output_type": "execute_result"
    }
   ],
   "source": [
    "workflow"
   ]
  },
  {
   "cell_type": "code",
   "execution_count": 61,
   "metadata": {},
   "outputs": [
    {
     "data": {
      "text/plain": [
       "{'runs': 100,\n",
       " 'balls': 50,\n",
       " 'fours': 6,\n",
       " 'sixes': 4,\n",
       " 'strike_rate': 200.0,\n",
       " 'boundary_perc': 48.0,\n",
       " 'balls_per_boundary': 5.0,\n",
       " 'summary': '\\n    strike_rate - 200.0 \\n\\n    balls per boundary - 5.0 \\n\\n    boundary percentage - 48.0\\n    '}"
      ]
     },
     "execution_count": 61,
     "metadata": {},
     "output_type": "execute_result"
    }
   ],
   "source": [
    "intial_state = {\n",
    "    'runs': 100,\n",
    "    'balls': 50,\n",
    "    'fours': 6,\n",
    "    'sixes': 4\n",
    "}\n",
    "workflow.invoke(intial_state)\n"
   ]
  },
  {
   "cell_type": "code",
   "execution_count": null,
   "metadata": {},
   "outputs": [],
   "source": []
  }
 ],
 "metadata": {
  "kernelspec": {
   "display_name": "myenv",
   "language": "python",
   "name": "python3"
  },
  "language_info": {
   "codemirror_mode": {
    "name": "ipython",
    "version": 3
   },
   "file_extension": ".py",
   "mimetype": "text/x-python",
   "name": "python",
   "nbconvert_exporter": "python",
   "pygments_lexer": "ipython3",
   "version": "3.13.0"
  }
 },
 "nbformat": 4,
 "nbformat_minor": 2
}
